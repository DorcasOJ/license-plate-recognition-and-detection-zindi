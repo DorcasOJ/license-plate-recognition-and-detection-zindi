{
  "cells": [
    {
      "cell_type": "code",
      "execution_count": 1,
      "metadata": {
        "colab": {
          "base_uri": "https://localhost:8080/"
        },
        "id": "G3Xhm0ytOaba",
        "outputId": "c427086e-17a7-4434-e88f-1eb524d072e6"
      },
      "outputs": [
        {
          "output_type": "stream",
          "name": "stdout",
          "text": [
            "Mounted at /content/drive\n",
            "/content/drive/MyDrive/Datasets/Licence_plate/Recognition\n"
          ]
        }
      ],
      "source": [
        "from google.colab import drive\n",
        "drive.mount('/content/drive')\n",
        "\n",
        "%cd drive/MyDrive/Datasets/Licence_plate/Recognition/"
      ]
    },
    {
      "cell_type": "code",
      "execution_count": 2,
      "metadata": {
        "id": "-tqwnbP5PXPq"
      },
      "outputs": [],
      "source": [
        "import pandas as pd, numpy as np\n",
        "import matplotlib.pyplot as plt\n",
        "from sklearn.model_selection import train_test_split\n",
        "import os\n",
        "import random\n",
        "import ast\n",
        "import string\n",
        "\n",
        "import torch\n",
        "import torch.nn as nn\n",
        "import torch.nn.functional as F\n",
        "import torch.optim as optim\n",
        "from torch.utils.data import Dataset, DataLoader\n",
        "from torchvision import models, transforms\n",
        "import torch.nn.init as init\n",
        "from sklearn.metrics import accuracy_score\n",
        "import albumentations as A\n",
        "\n",
        "from PIL import Image\n",
        "import cv2\n",
        "from matplotlib.patches import Rectangle\n",
        "\n",
        "import warnings\n",
        "warnings.filterwarnings('ignore')\n",
        "\n",
        "from tqdm import tqdm\n",
        "\n",
        "%matplotlib inline\n",
        "%reload_ext autoreload\n",
        "%autoreload 2"
      ]
    },
    {
      "cell_type": "code",
      "execution_count": 3,
      "metadata": {
        "id": "VAiF6nGdP2Zh"
      },
      "outputs": [],
      "source": [
        "lin_rec = pd.read_csv('./license_plates_recognition_train.csv')\n",
        "sub = pd.read_csv('SampleSubmission.csv')"
      ]
    },
    {
      "cell_type": "code",
      "execution_count": 4,
      "metadata": {
        "colab": {
          "base_uri": "https://localhost:8080/",
          "height": 301
        },
        "id": "BVfTKStbP85O",
        "outputId": "0b47a81f-77d7-41c4-a67d-a768ac662a05"
      },
      "outputs": [
        {
          "output_type": "display_data",
          "data": {
            "text/html": [
              "\n",
              "  <div id=\"df-af7afc33-2f8a-4f61-8786-fd0e1e1bf265\">\n",
              "    <div class=\"colab-df-container\">\n",
              "      <div>\n",
              "<style scoped>\n",
              "    .dataframe tbody tr th:only-of-type {\n",
              "        vertical-align: middle;\n",
              "    }\n",
              "\n",
              "    .dataframe tbody tr th {\n",
              "        vertical-align: top;\n",
              "    }\n",
              "\n",
              "    .dataframe thead th {\n",
              "        text-align: right;\n",
              "    }\n",
              "</style>\n",
              "<table border=\"1\" class=\"dataframe\">\n",
              "  <thead>\n",
              "    <tr style=\"text-align: right;\">\n",
              "      <th></th>\n",
              "      <th>img_id</th>\n",
              "      <th>text</th>\n",
              "    </tr>\n",
              "  </thead>\n",
              "  <tbody>\n",
              "    <tr>\n",
              "      <th>0</th>\n",
              "      <td>0.jpg</td>\n",
              "      <td>117T3989</td>\n",
              "    </tr>\n",
              "    <tr>\n",
              "      <th>1</th>\n",
              "      <td>1.jpg</td>\n",
              "      <td>128T8086</td>\n",
              "    </tr>\n",
              "    <tr>\n",
              "      <th>2</th>\n",
              "      <td>10.jpg</td>\n",
              "      <td>94T3458</td>\n",
              "    </tr>\n",
              "    <tr>\n",
              "      <th>3</th>\n",
              "      <td>100.jpg</td>\n",
              "      <td>133T6719</td>\n",
              "    </tr>\n",
              "    <tr>\n",
              "      <th>4</th>\n",
              "      <td>101.jpg</td>\n",
              "      <td>68T5979</td>\n",
              "    </tr>\n",
              "  </tbody>\n",
              "</table>\n",
              "</div>\n",
              "      <button class=\"colab-df-convert\" onclick=\"convertToInteractive('df-af7afc33-2f8a-4f61-8786-fd0e1e1bf265')\"\n",
              "              title=\"Convert this dataframe to an interactive table.\"\n",
              "              style=\"display:none;\">\n",
              "        \n",
              "  <svg xmlns=\"http://www.w3.org/2000/svg\" height=\"24px\"viewBox=\"0 0 24 24\"\n",
              "       width=\"24px\">\n",
              "    <path d=\"M0 0h24v24H0V0z\" fill=\"none\"/>\n",
              "    <path d=\"M18.56 5.44l.94 2.06.94-2.06 2.06-.94-2.06-.94-.94-2.06-.94 2.06-2.06.94zm-11 1L8.5 8.5l.94-2.06 2.06-.94-2.06-.94L8.5 2.5l-.94 2.06-2.06.94zm10 10l.94 2.06.94-2.06 2.06-.94-2.06-.94-.94-2.06-.94 2.06-2.06.94z\"/><path d=\"M17.41 7.96l-1.37-1.37c-.4-.4-.92-.59-1.43-.59-.52 0-1.04.2-1.43.59L10.3 9.45l-7.72 7.72c-.78.78-.78 2.05 0 2.83L4 21.41c.39.39.9.59 1.41.59.51 0 1.02-.2 1.41-.59l7.78-7.78 2.81-2.81c.8-.78.8-2.07 0-2.86zM5.41 20L4 18.59l7.72-7.72 1.47 1.35L5.41 20z\"/>\n",
              "  </svg>\n",
              "      </button>\n",
              "      \n",
              "  <style>\n",
              "    .colab-df-container {\n",
              "      display:flex;\n",
              "      flex-wrap:wrap;\n",
              "      gap: 12px;\n",
              "    }\n",
              "\n",
              "    .colab-df-convert {\n",
              "      background-color: #E8F0FE;\n",
              "      border: none;\n",
              "      border-radius: 50%;\n",
              "      cursor: pointer;\n",
              "      display: none;\n",
              "      fill: #1967D2;\n",
              "      height: 32px;\n",
              "      padding: 0 0 0 0;\n",
              "      width: 32px;\n",
              "    }\n",
              "\n",
              "    .colab-df-convert:hover {\n",
              "      background-color: #E2EBFA;\n",
              "      box-shadow: 0px 1px 2px rgba(60, 64, 67, 0.3), 0px 1px 3px 1px rgba(60, 64, 67, 0.15);\n",
              "      fill: #174EA6;\n",
              "    }\n",
              "\n",
              "    [theme=dark] .colab-df-convert {\n",
              "      background-color: #3B4455;\n",
              "      fill: #D2E3FC;\n",
              "    }\n",
              "\n",
              "    [theme=dark] .colab-df-convert:hover {\n",
              "      background-color: #434B5C;\n",
              "      box-shadow: 0px 1px 3px 1px rgba(0, 0, 0, 0.15);\n",
              "      filter: drop-shadow(0px 1px 2px rgba(0, 0, 0, 0.3));\n",
              "      fill: #FFFFFF;\n",
              "    }\n",
              "  </style>\n",
              "\n",
              "      <script>\n",
              "        const buttonEl =\n",
              "          document.querySelector('#df-af7afc33-2f8a-4f61-8786-fd0e1e1bf265 button.colab-df-convert');\n",
              "        buttonEl.style.display =\n",
              "          google.colab.kernel.accessAllowed ? 'block' : 'none';\n",
              "\n",
              "        async function convertToInteractive(key) {\n",
              "          const element = document.querySelector('#df-af7afc33-2f8a-4f61-8786-fd0e1e1bf265');\n",
              "          const dataTable =\n",
              "            await google.colab.kernel.invokeFunction('convertToInteractive',\n",
              "                                                     [key], {});\n",
              "          if (!dataTable) return;\n",
              "\n",
              "          const docLinkHtml = 'Like what you see? Visit the ' +\n",
              "            '<a target=\"_blank\" href=https://colab.research.google.com/notebooks/data_table.ipynb>data table notebook</a>'\n",
              "            + ' to learn more about interactive tables.';\n",
              "          element.innerHTML = '';\n",
              "          dataTable['output_type'] = 'display_data';\n",
              "          await google.colab.output.renderOutput(dataTable, element);\n",
              "          const docLink = document.createElement('div');\n",
              "          docLink.innerHTML = docLinkHtml;\n",
              "          element.appendChild(docLink);\n",
              "        }\n",
              "      </script>\n",
              "    </div>\n",
              "  </div>\n",
              "  "
            ],
            "text/plain": [
              "    img_id      text\n",
              "0    0.jpg  117T3989\n",
              "1    1.jpg  128T8086\n",
              "2   10.jpg   94T3458\n",
              "3  100.jpg  133T6719\n",
              "4  101.jpg   68T5979"
            ]
          },
          "metadata": {}
        },
        {
          "output_type": "display_data",
          "data": {
            "text/html": [
              "\n",
              "  <div id=\"df-5a03d27c-d377-4d47-bbb0-e2ae9e6b8307\">\n",
              "    <div class=\"colab-df-container\">\n",
              "      <div>\n",
              "<style scoped>\n",
              "    .dataframe tbody tr th:only-of-type {\n",
              "        vertical-align: middle;\n",
              "    }\n",
              "\n",
              "    .dataframe tbody tr th {\n",
              "        vertical-align: top;\n",
              "    }\n",
              "\n",
              "    .dataframe thead th {\n",
              "        text-align: right;\n",
              "    }\n",
              "</style>\n",
              "<table border=\"1\" class=\"dataframe\">\n",
              "  <thead>\n",
              "    <tr style=\"text-align: right;\">\n",
              "      <th></th>\n",
              "      <th>id</th>\n",
              "      <th>0</th>\n",
              "      <th>1</th>\n",
              "      <th>2</th>\n",
              "      <th>3</th>\n",
              "      <th>4</th>\n",
              "      <th>5</th>\n",
              "      <th>6</th>\n",
              "      <th>7</th>\n",
              "      <th>8</th>\n",
              "      <th>9</th>\n",
              "    </tr>\n",
              "  </thead>\n",
              "  <tbody>\n",
              "    <tr>\n",
              "      <th>0</th>\n",
              "      <td>img_901_1</td>\n",
              "      <td>0.0</td>\n",
              "      <td>1.0</td>\n",
              "      <td>0.0</td>\n",
              "      <td>0.0</td>\n",
              "      <td>0.0</td>\n",
              "      <td>0.0</td>\n",
              "      <td>0.0</td>\n",
              "      <td>0.0</td>\n",
              "      <td>0.0</td>\n",
              "      <td>0.0</td>\n",
              "    </tr>\n",
              "    <tr>\n",
              "      <th>1</th>\n",
              "      <td>img_901_2</td>\n",
              "      <td>0.0</td>\n",
              "      <td>0.0</td>\n",
              "      <td>0.0</td>\n",
              "      <td>0.0</td>\n",
              "      <td>0.0</td>\n",
              "      <td>0.0</td>\n",
              "      <td>1.0</td>\n",
              "      <td>0.0</td>\n",
              "      <td>0.0</td>\n",
              "      <td>0.0</td>\n",
              "    </tr>\n",
              "  </tbody>\n",
              "</table>\n",
              "</div>\n",
              "      <button class=\"colab-df-convert\" onclick=\"convertToInteractive('df-5a03d27c-d377-4d47-bbb0-e2ae9e6b8307')\"\n",
              "              title=\"Convert this dataframe to an interactive table.\"\n",
              "              style=\"display:none;\">\n",
              "        \n",
              "  <svg xmlns=\"http://www.w3.org/2000/svg\" height=\"24px\"viewBox=\"0 0 24 24\"\n",
              "       width=\"24px\">\n",
              "    <path d=\"M0 0h24v24H0V0z\" fill=\"none\"/>\n",
              "    <path d=\"M18.56 5.44l.94 2.06.94-2.06 2.06-.94-2.06-.94-.94-2.06-.94 2.06-2.06.94zm-11 1L8.5 8.5l.94-2.06 2.06-.94-2.06-.94L8.5 2.5l-.94 2.06-2.06.94zm10 10l.94 2.06.94-2.06 2.06-.94-2.06-.94-.94-2.06-.94 2.06-2.06.94z\"/><path d=\"M17.41 7.96l-1.37-1.37c-.4-.4-.92-.59-1.43-.59-.52 0-1.04.2-1.43.59L10.3 9.45l-7.72 7.72c-.78.78-.78 2.05 0 2.83L4 21.41c.39.39.9.59 1.41.59.51 0 1.02-.2 1.41-.59l7.78-7.78 2.81-2.81c.8-.78.8-2.07 0-2.86zM5.41 20L4 18.59l7.72-7.72 1.47 1.35L5.41 20z\"/>\n",
              "  </svg>\n",
              "      </button>\n",
              "      \n",
              "  <style>\n",
              "    .colab-df-container {\n",
              "      display:flex;\n",
              "      flex-wrap:wrap;\n",
              "      gap: 12px;\n",
              "    }\n",
              "\n",
              "    .colab-df-convert {\n",
              "      background-color: #E8F0FE;\n",
              "      border: none;\n",
              "      border-radius: 50%;\n",
              "      cursor: pointer;\n",
              "      display: none;\n",
              "      fill: #1967D2;\n",
              "      height: 32px;\n",
              "      padding: 0 0 0 0;\n",
              "      width: 32px;\n",
              "    }\n",
              "\n",
              "    .colab-df-convert:hover {\n",
              "      background-color: #E2EBFA;\n",
              "      box-shadow: 0px 1px 2px rgba(60, 64, 67, 0.3), 0px 1px 3px 1px rgba(60, 64, 67, 0.15);\n",
              "      fill: #174EA6;\n",
              "    }\n",
              "\n",
              "    [theme=dark] .colab-df-convert {\n",
              "      background-color: #3B4455;\n",
              "      fill: #D2E3FC;\n",
              "    }\n",
              "\n",
              "    [theme=dark] .colab-df-convert:hover {\n",
              "      background-color: #434B5C;\n",
              "      box-shadow: 0px 1px 3px 1px rgba(0, 0, 0, 0.15);\n",
              "      filter: drop-shadow(0px 1px 2px rgba(0, 0, 0, 0.3));\n",
              "      fill: #FFFFFF;\n",
              "    }\n",
              "  </style>\n",
              "\n",
              "      <script>\n",
              "        const buttonEl =\n",
              "          document.querySelector('#df-5a03d27c-d377-4d47-bbb0-e2ae9e6b8307 button.colab-df-convert');\n",
              "        buttonEl.style.display =\n",
              "          google.colab.kernel.accessAllowed ? 'block' : 'none';\n",
              "\n",
              "        async function convertToInteractive(key) {\n",
              "          const element = document.querySelector('#df-5a03d27c-d377-4d47-bbb0-e2ae9e6b8307');\n",
              "          const dataTable =\n",
              "            await google.colab.kernel.invokeFunction('convertToInteractive',\n",
              "                                                     [key], {});\n",
              "          if (!dataTable) return;\n",
              "\n",
              "          const docLinkHtml = 'Like what you see? Visit the ' +\n",
              "            '<a target=\"_blank\" href=https://colab.research.google.com/notebooks/data_table.ipynb>data table notebook</a>'\n",
              "            + ' to learn more about interactive tables.';\n",
              "          element.innerHTML = '';\n",
              "          dataTable['output_type'] = 'display_data';\n",
              "          await google.colab.output.renderOutput(dataTable, element);\n",
              "          const docLink = document.createElement('div');\n",
              "          docLink.innerHTML = docLinkHtml;\n",
              "          element.appendChild(docLink);\n",
              "        }\n",
              "      </script>\n",
              "    </div>\n",
              "  </div>\n",
              "  "
            ],
            "text/plain": [
              "          id    0    1    2    3    4    5    6    7    8    9\n",
              "0  img_901_1  0.0  1.0  0.0  0.0  0.0  0.0  0.0  0.0  0.0  0.0\n",
              "1  img_901_2  0.0  0.0  0.0  0.0  0.0  0.0  1.0  0.0  0.0  0.0"
            ]
          },
          "metadata": {}
        }
      ],
      "source": [
        "display(lin_rec.head())\n",
        "display(sub.head(2))"
      ]
    },
    {
      "cell_type": "code",
      "execution_count": 5,
      "metadata": {
        "id": "UInWXhpQP8Xv"
      },
      "outputs": [],
      "source": [
        "\n",
        "def pre_process_df(lin_rec):\n",
        "    \n",
        "    rec_train_path = './license_plates_recognition_train/'\n",
        "    \n",
        "    lin_rec['length'] = [len(lin_rec.loc[idx, 'text']) for idx in range(len(lin_rec))]\n",
        "    for idx in range(len(lin_rec)):\n",
        "        idx_text_lst = [ast.literal_eval(l) if l not in string.ascii_letters else l for l in list(lin_rec.loc[idx, 'text'].strip())]\n",
        "          \n",
        "        for i in list(set(idx_text_lst)):\n",
        "            lin_rec.loc[idx, i] = 1\n",
        "\n",
        "        lin_rec.loc[idx, 'label'] = str(idx_text_lst)\n",
        "        lin_rec.loc[idx, 'new_path'] = str(rec_train_path) + str(lin_rec.loc[idx, 'img_id'])\n",
        "\n",
        "    lin_rec = lin_rec.fillna(0)\n",
        "    lin_rec.to_csv('./lin_rec_updated.csv', index=False)\n",
        "    return lin_rec"
      ]
    },
    {
      "cell_type": "code",
      "execution_count": 6,
      "metadata": {
        "id": "quIMXLmIPXc_"
      },
      "outputs": [],
      "source": [
        "lin_rec_update = pd.read_csv('lin_rec_updated.csv')"
      ]
    },
    {
      "cell_type": "code",
      "execution_count": 7,
      "metadata": {
        "colab": {
          "base_uri": "https://localhost:8080/",
          "height": 206
        },
        "id": "z4Vk3TdwPXla",
        "outputId": "2899ef8e-259a-4448-f5c4-ead992630522"
      },
      "outputs": [
        {
          "output_type": "execute_result",
          "data": {
            "text/html": [
              "\n",
              "  <div id=\"df-013d6eef-3fa6-4618-af19-b4fdc36ce78f\">\n",
              "    <div class=\"colab-df-container\">\n",
              "      <div>\n",
              "<style scoped>\n",
              "    .dataframe tbody tr th:only-of-type {\n",
              "        vertical-align: middle;\n",
              "    }\n",
              "\n",
              "    .dataframe tbody tr th {\n",
              "        vertical-align: top;\n",
              "    }\n",
              "\n",
              "    .dataframe thead th {\n",
              "        text-align: right;\n",
              "    }\n",
              "</style>\n",
              "<table border=\"1\" class=\"dataframe\">\n",
              "  <thead>\n",
              "    <tr style=\"text-align: right;\">\n",
              "      <th></th>\n",
              "      <th>img_id</th>\n",
              "      <th>text</th>\n",
              "      <th>length</th>\n",
              "      <th>0</th>\n",
              "      <th>1</th>\n",
              "      <th>2</th>\n",
              "      <th>3</th>\n",
              "      <th>4</th>\n",
              "      <th>5</th>\n",
              "      <th>6</th>\n",
              "      <th>7</th>\n",
              "      <th>8</th>\n",
              "      <th>9</th>\n",
              "      <th>label</th>\n",
              "      <th>new_path</th>\n",
              "      <th>T</th>\n",
              "      <th>N</th>\n",
              "    </tr>\n",
              "  </thead>\n",
              "  <tbody>\n",
              "    <tr>\n",
              "      <th>0</th>\n",
              "      <td>0.jpg</td>\n",
              "      <td>117T3989</td>\n",
              "      <td>8</td>\n",
              "      <td>0.0</td>\n",
              "      <td>1.0</td>\n",
              "      <td>0.0</td>\n",
              "      <td>1.0</td>\n",
              "      <td>0.0</td>\n",
              "      <td>0.0</td>\n",
              "      <td>0.0</td>\n",
              "      <td>1.0</td>\n",
              "      <td>1.0</td>\n",
              "      <td>1.0</td>\n",
              "      <td>[1, 1, 7, 'T', 3, 9, 8, 9]</td>\n",
              "      <td>./license_plates_recognition_train/0.jpg</td>\n",
              "      <td>1.0</td>\n",
              "      <td>0.0</td>\n",
              "    </tr>\n",
              "    <tr>\n",
              "      <th>1</th>\n",
              "      <td>1.jpg</td>\n",
              "      <td>128T8086</td>\n",
              "      <td>8</td>\n",
              "      <td>1.0</td>\n",
              "      <td>1.0</td>\n",
              "      <td>1.0</td>\n",
              "      <td>0.0</td>\n",
              "      <td>0.0</td>\n",
              "      <td>0.0</td>\n",
              "      <td>1.0</td>\n",
              "      <td>0.0</td>\n",
              "      <td>1.0</td>\n",
              "      <td>0.0</td>\n",
              "      <td>[1, 2, 8, 'T', 8, 0, 8, 6]</td>\n",
              "      <td>./license_plates_recognition_train/1.jpg</td>\n",
              "      <td>1.0</td>\n",
              "      <td>0.0</td>\n",
              "    </tr>\n",
              "    <tr>\n",
              "      <th>2</th>\n",
              "      <td>10.jpg</td>\n",
              "      <td>94T3458</td>\n",
              "      <td>7</td>\n",
              "      <td>0.0</td>\n",
              "      <td>0.0</td>\n",
              "      <td>0.0</td>\n",
              "      <td>1.0</td>\n",
              "      <td>1.0</td>\n",
              "      <td>1.0</td>\n",
              "      <td>0.0</td>\n",
              "      <td>0.0</td>\n",
              "      <td>1.0</td>\n",
              "      <td>1.0</td>\n",
              "      <td>[9, 4, 'T', 3, 4, 5, 8]</td>\n",
              "      <td>./license_plates_recognition_train/10.jpg</td>\n",
              "      <td>1.0</td>\n",
              "      <td>0.0</td>\n",
              "    </tr>\n",
              "    <tr>\n",
              "      <th>3</th>\n",
              "      <td>100.jpg</td>\n",
              "      <td>133T6719</td>\n",
              "      <td>8</td>\n",
              "      <td>0.0</td>\n",
              "      <td>1.0</td>\n",
              "      <td>0.0</td>\n",
              "      <td>1.0</td>\n",
              "      <td>0.0</td>\n",
              "      <td>0.0</td>\n",
              "      <td>1.0</td>\n",
              "      <td>1.0</td>\n",
              "      <td>0.0</td>\n",
              "      <td>1.0</td>\n",
              "      <td>[1, 3, 3, 'T', 6, 7, 1, 9]</td>\n",
              "      <td>./license_plates_recognition_train/100.jpg</td>\n",
              "      <td>1.0</td>\n",
              "      <td>0.0</td>\n",
              "    </tr>\n",
              "    <tr>\n",
              "      <th>4</th>\n",
              "      <td>101.jpg</td>\n",
              "      <td>68T5979</td>\n",
              "      <td>7</td>\n",
              "      <td>0.0</td>\n",
              "      <td>0.0</td>\n",
              "      <td>0.0</td>\n",
              "      <td>0.0</td>\n",
              "      <td>0.0</td>\n",
              "      <td>1.0</td>\n",
              "      <td>1.0</td>\n",
              "      <td>1.0</td>\n",
              "      <td>1.0</td>\n",
              "      <td>1.0</td>\n",
              "      <td>[6, 8, 'T', 5, 9, 7, 9]</td>\n",
              "      <td>./license_plates_recognition_train/101.jpg</td>\n",
              "      <td>1.0</td>\n",
              "      <td>0.0</td>\n",
              "    </tr>\n",
              "  </tbody>\n",
              "</table>\n",
              "</div>\n",
              "      <button class=\"colab-df-convert\" onclick=\"convertToInteractive('df-013d6eef-3fa6-4618-af19-b4fdc36ce78f')\"\n",
              "              title=\"Convert this dataframe to an interactive table.\"\n",
              "              style=\"display:none;\">\n",
              "        \n",
              "  <svg xmlns=\"http://www.w3.org/2000/svg\" height=\"24px\"viewBox=\"0 0 24 24\"\n",
              "       width=\"24px\">\n",
              "    <path d=\"M0 0h24v24H0V0z\" fill=\"none\"/>\n",
              "    <path d=\"M18.56 5.44l.94 2.06.94-2.06 2.06-.94-2.06-.94-.94-2.06-.94 2.06-2.06.94zm-11 1L8.5 8.5l.94-2.06 2.06-.94-2.06-.94L8.5 2.5l-.94 2.06-2.06.94zm10 10l.94 2.06.94-2.06 2.06-.94-2.06-.94-.94-2.06-.94 2.06-2.06.94z\"/><path d=\"M17.41 7.96l-1.37-1.37c-.4-.4-.92-.59-1.43-.59-.52 0-1.04.2-1.43.59L10.3 9.45l-7.72 7.72c-.78.78-.78 2.05 0 2.83L4 21.41c.39.39.9.59 1.41.59.51 0 1.02-.2 1.41-.59l7.78-7.78 2.81-2.81c.8-.78.8-2.07 0-2.86zM5.41 20L4 18.59l7.72-7.72 1.47 1.35L5.41 20z\"/>\n",
              "  </svg>\n",
              "      </button>\n",
              "      \n",
              "  <style>\n",
              "    .colab-df-container {\n",
              "      display:flex;\n",
              "      flex-wrap:wrap;\n",
              "      gap: 12px;\n",
              "    }\n",
              "\n",
              "    .colab-df-convert {\n",
              "      background-color: #E8F0FE;\n",
              "      border: none;\n",
              "      border-radius: 50%;\n",
              "      cursor: pointer;\n",
              "      display: none;\n",
              "      fill: #1967D2;\n",
              "      height: 32px;\n",
              "      padding: 0 0 0 0;\n",
              "      width: 32px;\n",
              "    }\n",
              "\n",
              "    .colab-df-convert:hover {\n",
              "      background-color: #E2EBFA;\n",
              "      box-shadow: 0px 1px 2px rgba(60, 64, 67, 0.3), 0px 1px 3px 1px rgba(60, 64, 67, 0.15);\n",
              "      fill: #174EA6;\n",
              "    }\n",
              "\n",
              "    [theme=dark] .colab-df-convert {\n",
              "      background-color: #3B4455;\n",
              "      fill: #D2E3FC;\n",
              "    }\n",
              "\n",
              "    [theme=dark] .colab-df-convert:hover {\n",
              "      background-color: #434B5C;\n",
              "      box-shadow: 0px 1px 3px 1px rgba(0, 0, 0, 0.15);\n",
              "      filter: drop-shadow(0px 1px 2px rgba(0, 0, 0, 0.3));\n",
              "      fill: #FFFFFF;\n",
              "    }\n",
              "  </style>\n",
              "\n",
              "      <script>\n",
              "        const buttonEl =\n",
              "          document.querySelector('#df-013d6eef-3fa6-4618-af19-b4fdc36ce78f button.colab-df-convert');\n",
              "        buttonEl.style.display =\n",
              "          google.colab.kernel.accessAllowed ? 'block' : 'none';\n",
              "\n",
              "        async function convertToInteractive(key) {\n",
              "          const element = document.querySelector('#df-013d6eef-3fa6-4618-af19-b4fdc36ce78f');\n",
              "          const dataTable =\n",
              "            await google.colab.kernel.invokeFunction('convertToInteractive',\n",
              "                                                     [key], {});\n",
              "          if (!dataTable) return;\n",
              "\n",
              "          const docLinkHtml = 'Like what you see? Visit the ' +\n",
              "            '<a target=\"_blank\" href=https://colab.research.google.com/notebooks/data_table.ipynb>data table notebook</a>'\n",
              "            + ' to learn more about interactive tables.';\n",
              "          element.innerHTML = '';\n",
              "          dataTable['output_type'] = 'display_data';\n",
              "          await google.colab.output.renderOutput(dataTable, element);\n",
              "          const docLink = document.createElement('div');\n",
              "          docLink.innerHTML = docLinkHtml;\n",
              "          element.appendChild(docLink);\n",
              "        }\n",
              "      </script>\n",
              "    </div>\n",
              "  </div>\n",
              "  "
            ],
            "text/plain": [
              "    img_id      text  ...    T    N\n",
              "0    0.jpg  117T3989  ...  1.0  0.0\n",
              "1    1.jpg  128T8086  ...  1.0  0.0\n",
              "2   10.jpg   94T3458  ...  1.0  0.0\n",
              "3  100.jpg  133T6719  ...  1.0  0.0\n",
              "4  101.jpg   68T5979  ...  1.0  0.0\n",
              "\n",
              "[5 rows x 17 columns]"
            ]
          },
          "metadata": {},
          "execution_count": 7
        }
      ],
      "source": [
        "lin_rec_update.head()"
      ]
    },
    {
      "cell_type": "code",
      "execution_count": 8,
      "metadata": {
        "colab": {
          "base_uri": "https://localhost:8080/"
        },
        "id": "gtOHZGZnPXtI",
        "outputId": "c55e34d3-f39b-415d-e053-8de7de0a58ad"
      },
      "outputs": [
        {
          "output_type": "stream",
          "name": "stdout",
          "text": [
            "total df: 900, validation size: 180, train size: 720\n"
          ]
        }
      ],
      "source": [
        "valid_size = 0.2\n",
        "\n",
        "valid_samples = lin_rec_update.sample(int(valid_size * len(lin_rec_update)), )\n",
        "train_samples = lin_rec_update.drop(valid_samples.index.values, axis =0)\n",
        "\n",
        "valid_samples = valid_samples.reset_index(drop=True)\n",
        "train_samples = train_samples.reset_index(drop=True)\n",
        "\n",
        "print(f'total df: {len(lin_rec_update)}, validation size: {len(valid_samples)}, train size: {len(train_samples)}')\n"
      ]
    },
    {
      "cell_type": "code",
      "execution_count": 21,
      "metadata": {
        "id": "8XnZQfqkQmOA"
      },
      "outputs": [],
      "source": [
        "\n",
        "# config\n",
        "\n",
        "model_config = {\n",
        "    'img_width': 84,\n",
        "    'img_height': 100,\n",
        "    'rnn_hidden': 32,\n",
        "}\n",
        "\n",
        "train_config = {\n",
        "    'epochs': 5,\n",
        "    'img_std': (0.229, 0.224, 0.225),\n",
        "    'img_mean': (0.485, 0.456, 0.406),\n",
        "    'batch_size': 32, #32,\n",
        "    'lr': 0.0003,\n",
        "    'load_checkpoint': True,\n",
        "    'load_checkpoint_dir': 'CRNN_checkpoints/checkpoints/crnn_model9da-1-a-aug-new.pt',\n",
        "    'checkpoint_dir': 'CRNN_checkpoints/checkpoints/crnn_model9da-1-a-aug-new.pt'\n",
        "}\n",
        "\n",
        "train_config.update(model_config)\n"
      ]
    },
    {
      "cell_type": "code",
      "execution_count": 10,
      "metadata": {
        "id": "PEp0Eb6KQVdR"
      },
      "outputs": [],
      "source": [
        "# Dataset Class\n",
        "\n",
        "class LinRegDataset:\n",
        "    CHARS = '0123456789ABCDEFGHIJKLMNOPQRSTUVWXYZ'\n",
        "\n",
        "    CHAR2LABEL = {char: i+1 for i, char in enumerate(CHARS)}\n",
        "    LABEL2CHAR = {i:char for char, i in CHAR2LABEL.items()} \n",
        "\n",
        "\n",
        "    def __init__(self, paths, text, transform_aug):\n",
        "        self.paths = paths\n",
        "        self.text = [list(t) for t in text]\n",
        "        self.img_height = train_config['img_height']\n",
        "        self.img_width = train_config['img_width']\n",
        "        self.aug = A.Compose(transforms = transform_aug)\n",
        "\n",
        "    def __len__(self):\n",
        "        return len(self.paths)\n",
        "    \n",
        "    \n",
        "    def __getitem__(self, idx):\n",
        "        \n",
        "        img_path = self.paths[idx]\n",
        "        \n",
        "        try:\n",
        "            img =Image.open(img_path).convert('RGB')\n",
        "        except IOError:\n",
        "            print(f'Corrupted image at index {idx}')\n",
        "            return self[idx+1]\n",
        "\n",
        "        img = np.array(img.resize((self.img_width, self.img_height), resample=Image.BILINEAR))\n",
        "        \n",
        "        augmented = self.aug(image=img) # norm\n",
        "        img = augmented[\"image\"]\n",
        "        img = np.transpose(img, (2, 0, 1)).astype(np.float32)\n",
        " \n",
        "        img = torch.tensor(img, dtype=torch.float)\n",
        "\n",
        "        if self.text is not None:\n",
        "            text = self.text[idx]\n",
        "            target = [self.CHAR2LABEL[t] for t in text]\n",
        "            target_length = [len(target)]\n",
        "            target = torch.tensor(target, dtype= torch.long)\n",
        "            target_length = torch.tensor(target_length, dtype= torch.long)\n",
        "\n",
        "            return img, target, target_length\n",
        "        \n",
        "        return img, None, None\n",
        "\n",
        "\n",
        "def lin_collate_fn(batch):\n",
        "    imgs, targets, target_length = zip(*batch)\n",
        "    imgs = torch.stack(imgs, 0)\n",
        "    targets = torch.cat(targets, 0)\n",
        "    target_lengths = torch.cat(target_length, 0)\n",
        "    return imgs, targets, target_lengths\n"
      ]
    },
    {
      "cell_type": "code",
      "execution_count": 11,
      "metadata": {
        "id": "7A6W85YYARPu"
      },
      "outputs": [],
      "source": [
        "# new CRNN model\n",
        "\n",
        "def init_weights(m):\n",
        "    with torch.no_grad():\n",
        "        if isinstance(m,  nn.Conv2d):\n",
        "            init.xavier_uniform_(m.weight.data)\n",
        "            if m.bias is not None:\n",
        "                m.bias.zero_()\n",
        "\n",
        "        if isinstance(m, nn.BatchNorm2d):\n",
        "            m.weight.data.fill_(1)\n",
        "            m.bias.zero_()\n",
        "\n",
        "        if isinstance(m, nn.Linear):\n",
        "            m.weight.data.normal_(0, 0.01)\n",
        "            m.bias.zero_()\n",
        "\n",
        "\n",
        "class CRNN(nn.Module):\n",
        "    def __init__(self, img_channel, num_class, rnn_hidden):\n",
        "        super(CRNN, self).__init__()\n",
        "        self.conv1 = nn.Conv2d(img_channel, 64, kernel_size=(3,6), padding=(1, 1))\n",
        "        self.maxpool1 = nn.MaxPool2d(kernel_size=(2,2))\n",
        "       \n",
        "        self.linear =nn.Linear(3200, 64)\n",
        "        self.dropout = nn.Dropout(0.2)\n",
        "        self.gru = nn.GRU(64, rnn_hidden, bidirectional=True, num_layers=2, batch_first=True, dropout=0.25,)\n",
        "        self.output = nn.Linear(2* rnn_hidden, num_class)\n",
        "        init_weights(self.conv1)\n",
        "        init_weights(self.maxpool1)\n",
        "        init_weights(self.linear)\n",
        "\n",
        "    def forward(self, img, targets=None, target_length=None):\n",
        "        batch_size, _, _, _ = img.size()\n",
        "        out = F.relu(self.conv1(img))\n",
        "        out = self.maxpool1(out)\n",
        "\n",
        "        out = out.permute(0, 3, 1, 2)\n",
        "        out = out.view(batch_size, out.size(1), -1)\n",
        "        out = self.linear(out)\n",
        "        out = self.dropout(out)\n",
        "        out, _ = self.gru(out)\n",
        "        out = self.output(out)\n",
        "        out = out.permute(1, 0, 2)\n",
        "\n",
        "        if targets is not None:\n",
        "            log_probs = F.log_softmax(out, 2)\n",
        "            input_lengths = torch.full(size=(batch_size,), fill_value=log_probs.size(0), dtype=torch.int64)\n",
        "            target_lengths = torch.flatten(target_length)\n",
        "            loss = nn.CTCLoss(blank=0)(log_probs, targets, input_lengths, target_lengths)\n",
        "            return out, loss\n",
        "\n",
        "\n",
        "        return out, None  # [seq_len, batch_size, num_classes]\n"
      ]
    },
    {
      "cell_type": "code",
      "execution_count": 12,
      "metadata": {
        "colab": {
          "base_uri": "https://localhost:8080/"
        },
        "id": "4GOFC5JiRE-z",
        "outputId": "cc0c7f67-3c70-48cc-fe06-6fb56df9827e"
      },
      "outputs": [
        {
          "output_type": "stream",
          "name": "stdout",
          "text": [
            "CRNN(\n",
            "  (conv1): Conv2d(3, 64, kernel_size=(3, 6), stride=(1, 1), padding=(1, 1))\n",
            "  (maxpool1): MaxPool2d(kernel_size=(2, 2), stride=(2, 2), padding=0, dilation=1, ceil_mode=False)\n",
            "  (linear): Linear(in_features=3200, out_features=64, bias=True)\n",
            "  (dropout): Dropout(p=0.2, inplace=False)\n",
            "  (gru): GRU(64, 32, num_layers=2, batch_first=True, dropout=0.25, bidirectional=True)\n",
            "  (output): Linear(in_features=64, out_features=37, bias=True)\n",
            ")\n"
          ]
        }
      ],
      "source": [
        "\n",
        "abc = CRNN(3, len(LinRegDataset.CHAR2LABEL) +1,\n",
        "                 rnn_hidden = train_config['rnn_hidden'])\n",
        "\n",
        "print(abc)\n"
      ]
    },
    {
      "cell_type": "code",
      "source": [
        "\n",
        "\n",
        "train_transforms_aug = [\n",
        "                        '_',\n",
        "                        A.RGBShift(r_shift_limit=25, g_shift_limit=25, b_shift_limit=25, p=0.5),\n",
        "                        A.RandomBrightnessContrast(brightness_limit=0.3, contrast_limit=0.3, p =0.5),\n",
        "                        A.Normalize(train_config['img_mean'], train_config['img_std'],\n",
        "                                          max_pixel_value=255.0, always_apply=True ),\n",
        "                        \n",
        "]\n",
        "\n",
        "eval_transforms_aug = [\n",
        "                        A.RandomBrightnessContrast(brightness_limit=0.3, contrast_limit=0.3, p =0.5),\n",
        "                        A.Normalize(train_config['img_mean'], train_config['img_std'],\n",
        "                                          max_pixel_value=255.0, always_apply=True )\n",
        "]"
      ],
      "metadata": {
        "id": "AiPubqlqt2Jx"
      },
      "execution_count": 13,
      "outputs": []
    },
    {
      "cell_type": "code",
      "execution_count": 15,
      "metadata": {
        "colab": {
          "base_uri": "https://localhost:8080/",
          "height": 285
        },
        "id": "4ev6gz9FTCfa",
        "outputId": "ea80495d-1f53-4c0c-f9e8-1dfaa0c5e11c"
      },
      "outputs": [
        {
          "output_type": "stream",
          "name": "stdout",
          "text": [
            "(100, 84, 3)\n"
          ]
        },
        {
          "output_type": "display_data",
          "data": {
            "image/png": "[encoded data removed]",
            "text/plain": [
              "<Figure size 432x288 with 1 Axes>"
            ]
          },
          "metadata": {
            "needs_background": "light"
          }
        }
      ],
      "source": [
        "\n",
        "device = torch.device('cpu')\n",
        "train_dataset = LinRegDataset(paths= train_samples.loc[:, 'new_path'].values, \n",
        "                              text = train_samples.loc[:, 'text'].values, \n",
        "                              transform_aug= eval_transforms_aug)\n",
        "\n",
        "train_loader = DataLoader(dataset=train_dataset, batch_size= 1,\n",
        "                            shuffle=True, collate_fn= lin_collate_fn)\n",
        "\n",
        "for idx, data in enumerate(train_loader):\n",
        "    imgs, targets, target_length = [d.to(device) for d in data]\n",
        "    img = imgs[0]\n",
        "    img = transforms.ToPILImage()(img)\n",
        "    print(np.array(img).shape)\n",
        "    plt.imshow(img)\n",
        "    \n",
        "    if idx == 0:\n",
        "        break\n"
      ]
    },
    {
      "cell_type": "code",
      "source": [
        "\n",
        "# training \n",
        "def train_batch(model, train_loader, optimizer, device,):\n",
        "    model.train()\n",
        "    total_loss = 0\n",
        "    bar = tqdm(train_loader, total=len(train_loader), desc='Model training')\n",
        "\n",
        "    for data in bar:\n",
        "        imgs, targets, target_length = [d.to(device) for d in data]\n",
        "        #print('img batch\\n',img.size(), targets.size(), target_length)\n",
        "        preds, loss = model(imgs, targets, target_length)\n",
        "       \n",
        "        optimizer.zero_grad()\n",
        "        loss.backward()\n",
        "        optimizer.step()\n",
        "        total_loss += loss.item()\n",
        "        \n",
        "    return total_loss/len(train_loader)\n",
        "\n",
        "\n",
        "def train_aug(train_df, train_transforms_aug, device, model, optimizer,):\n",
        "    \n",
        "    print('-'*10, 'train data aug begins', '-'*10)\n",
        "    total_aug_loss_lst = []\n",
        "    for idx_aug, aug in enumerate(train_transforms_aug[:-1]):\n",
        "        print(f\"Aug: {idx_aug+1}/{len(train_transforms_aug[:-1])}\")\n",
        "\n",
        "        if idx_aug == 0:\n",
        "            aug_t = [train_transforms_aug[-1]]\n",
        "        else:\n",
        "            aug_t = [aug] + [train_transforms_aug[-1]]\n",
        "        train_dataset = LinRegDataset(train_df.loc[:, 'new_path'].values, train_df.loc[:, 'text'], aug_t )\n",
        "        train_loader = DataLoader(train_dataset, batch_size= train_config['batch_size'], shuffle=True, collate_fn= lin_collate_fn)\n",
        "        total_aug_loss = train_batch(model, train_loader, optimizer, device)\n",
        "        total_aug_loss_lst.append(total_aug_loss)\n",
        "        print(f\"Aug {idx_aug+1} Loss: {total_aug_loss}\")\n",
        "    print('-'*10, 'train data aug ends', '-'*10)\n",
        "\n",
        "    return sum(total_aug_loss_lst)/ len(total_aug_loss_lst)\n",
        "\n",
        " \n",
        " # evaluation \n",
        "def evaluate(model, valid_loader, device):\n",
        "    \n",
        "    model.eval()\n",
        "    total_loss = 0\n",
        "    total_log_loss = 0\n",
        "    total_preds = []\n",
        "\n",
        "    bar = tqdm(valid_loader, total=len(valid_loader), desc= \"Evaluation\")\n",
        "\n",
        "    with torch.no_grad():\n",
        "        for data in bar:\n",
        "            imgs, targets, target_length = [d.to(device) for d in data]\n",
        "            preds, loss = model(imgs, targets, target_length)\n",
        "          \n",
        "            total_loss += loss.item()\n",
        "            total_preds.append(preds)\n",
        "\n",
        "    return total_preds, total_loss/len(valid_loader)\n",
        "\n",
        "  \n",
        "\n",
        "def train_model(train_df, valid_df, train_transforms_aug, eval_transforms_aug):\n",
        "    epochs = train_config['epochs']\n",
        "    lr = train_config['lr']\n",
        "    checkpoint_dir = train_config['checkpoint_dir']\n",
        "    load_checkpoint_dir = train_config['load_checkpoint_dir']\n",
        "    load_checkpoint = train_config['load_checkpoint']\n",
        "    iter = 1\n",
        "    best_loss = float('inf')\n",
        "    num_class = len(LinRegDataset.CHAR2LABEL) + 1\n",
        "    device = torch.device('cuda' if torch.cuda.is_available() else 'cpu')\n",
        "    print(f'device: {device}')\n",
        "\n",
        "    # Eval\n",
        "    valid_dataset = LinRegDataset(paths= valid_df.loc[:, 'new_path'].values,\n",
        "                                  text = valid_df.loc[:, 'text'].values,\n",
        "                                  transform_aug= eval_transforms_aug)\n",
        "    \n",
        "    valid_loader = DataLoader(valid_dataset, shuffle=False, batch_size = train_config['batch_size'],\n",
        "                              collate_fn= lin_collate_fn, drop_last=True)\n",
        "\n",
        "    # model    \n",
        "    crnn = CRNN(img_channel= 3, num_class = num_class, rnn_hidden =  model_config['rnn_hidden'])\n",
        "    \n",
        "    # base model\n",
        "    if load_checkpoint:\n",
        "        print('Loading base checkpoint...')\n",
        "        checkpoint = torch.load(load_checkpoint_dir, map_location= torch.device('cpu'))\n",
        "        crnn.load_state_dict(checkpoint['model'])\n",
        "        best_loss = checkpoint['valid_loss']\n",
        "        iter = checkpoint['iteration'] + 1\n",
        "        lr = checkpoint['lr']\n",
        "        print(f'Current lr: {lr:.10f}')\n",
        "        print(f\"Loaded base checkpoint, best_valid_loss: {best_loss:.4f}, train_loss: {checkpoint['train_loss']:.4f}, iteration: {checkpoint['iteration']}\")\n",
        "\n",
        "    crnn.to(device)\n",
        "    optimizer = optim.Adam(crnn.parameters(), lr= lr)\n",
        "    scheduler = optim.lr_scheduler.ReduceLROnPlateau(optimizer=optimizer, factor=0.8, \n",
        "                                                     patience=5, verbose = True)\n",
        "\n",
        "    for epoch in range(iter, epochs+iter):\n",
        "        print(f'\\nEpoch: {epoch}')\n",
        "\n",
        "        train_loss = train_aug(train_df = train_df, train_transforms_aug = train_transforms_aug,\n",
        "                               device = device, model = crnn, optimizer = optimizer)\n",
        "        preds, valid_loss = evaluate(model = crnn, valid_loader = valid_loader, device = device)\n",
        "     \n",
        "        if valid_loss < best_loss: \n",
        "            best_loss = valid_loss\n",
        "            torch.save({\n",
        "                    'model': crnn.state_dict(),\n",
        "                    'train_loss': train_loss,\n",
        "                    'iteration': epoch,\n",
        "                    'valid_loss': valid_loss,\n",
        "                    'lr': optimizer.param_groups[0]['lr'],\n",
        "            }, os.path.join(train_config['checkpoint_dir']))\n",
        "\n",
        "        print(f\"Epoch: {epoch}, Train Loss: {train_loss:.4f}, Valid Loss: {valid_loss:.4f}, Best Valid Loss: {best_loss:.4f}\")\n",
        "        print('-' * 50)\n",
        "        scheduler.step(valid_loss)\n",
        "        "
      ],
      "metadata": {
        "id": "0lRWAQbg2fkK"
      },
      "execution_count": 16,
      "outputs": []
    },
    {
      "cell_type": "code",
      "execution_count": 17,
      "metadata": {
        "id": "Fdgb0j_LRvxF"
      },
      "outputs": [],
      "source": [
        "\n",
        "def decode_pred(preds, label2char, blank=0):\n",
        "    preds = preds.permute(1, 0, 2)\n",
        "    preds = torch.softmax(preds, 2)\n",
        "    preds = torch.argmax(preds, 2)\n",
        "    preds = preds.detach().cpu().numpy()\n",
        "    # print('pred decode', preds)\n",
        "\n",
        "    all_preds = []\n",
        "    for i in range(preds.shape[0]):\n",
        "        temp = []\n",
        "        for j in preds[i, :]:\n",
        "            #j = j - 1\n",
        "            if j == blank:\n",
        "                temp.append(\"§\")\n",
        "            else:\n",
        "                p = label2char[j]\n",
        "                temp.append(p)\n",
        "\n",
        "        tp = ''.join(temp).replace(\"§\", \"\")\n",
        "        all_preds.append(remove_duplicates(tp))\n",
        "    return all_preds\n",
        "\n",
        "\n",
        "def remove_duplicates(x):\n",
        "    if len(x) < 2:\n",
        "        return x\n",
        "    fin = \"\"\n",
        "    for j in x:\n",
        "        if fin == \"\":\n",
        "            fin = j\n",
        "        else:\n",
        "            if j == fin[-1]:\n",
        "                continue\n",
        "            else:\n",
        "                fin = fin + j\n",
        "    return fin\n",
        "\n"
      ]
    },
    {
      "cell_type": "code",
      "execution_count": 22,
      "metadata": {
        "colab": {
          "base_uri": "https://localhost:8080/"
        },
        "id": "TI2qIVFXO3TU",
        "outputId": "3de9ba89-1531-4a4b-edb1-433e15039ea0"
      },
      "outputs": [
        {
          "output_type": "stream",
          "name": "stdout",
          "text": [
            "device: cpu\n",
            "Loading base checkpoint...\n",
            "Current lr: 0.0003000000\n",
            "Loaded base checkpoint, best_valid_loss: 0.0905, train_loss: 0.1679, iteration: 90\n",
            "\n",
            "Epoch: 91\n",
            "---------- train data aug begins ----------\n",
            "Aug: 1/3\n"
          ]
        },
        {
          "output_type": "stream",
          "name": "stderr",
          "text": [
            "Model training: 100%|██████████| 23/23 [00:10<00:00,  2.29it/s]\n"
          ]
        },
        {
          "output_type": "stream",
          "name": "stdout",
          "text": [
            "Aug 1 Loss: 0.15779218887505325\n",
            "Aug: 2/3\n"
          ]
        },
        {
          "output_type": "stream",
          "name": "stderr",
          "text": [
            "Model training: 100%|██████████| 23/23 [00:10<00:00,  2.29it/s]\n"
          ]
        },
        {
          "output_type": "stream",
          "name": "stdout",
          "text": [
            "Aug 2 Loss: 0.14818919612013776\n",
            "Aug: 3/3\n"
          ]
        },
        {
          "output_type": "stream",
          "name": "stderr",
          "text": [
            "Model training: 100%|██████████| 23/23 [00:10<00:00,  2.27it/s]\n"
          ]
        },
        {
          "output_type": "stream",
          "name": "stdout",
          "text": [
            "Aug 3 Loss: 0.15121072692715604\n",
            "---------- train data aug ends ----------\n"
          ]
        },
        {
          "output_type": "stream",
          "name": "stderr",
          "text": [
            "Evaluation: 100%|██████████| 5/5 [00:01<00:00,  3.87it/s]\n"
          ]
        },
        {
          "output_type": "stream",
          "name": "stdout",
          "text": [
            "Epoch: 91, Train Loss: 0.1524, Valid Loss: 0.1054, Best Valid Loss: 0.0905\n",
            "--------------------------------------------------\n",
            "\n",
            "Epoch: 92\n",
            "---------- train data aug begins ----------\n",
            "Aug: 1/3\n"
          ]
        },
        {
          "output_type": "stream",
          "name": "stderr",
          "text": [
            "Model training: 100%|██████████| 23/23 [00:09<00:00,  2.31it/s]\n"
          ]
        },
        {
          "output_type": "stream",
          "name": "stdout",
          "text": [
            "Aug 1 Loss: 0.13778478878995645\n",
            "Aug: 2/3\n"
          ]
        },
        {
          "output_type": "stream",
          "name": "stderr",
          "text": [
            "Model training: 100%|██████████| 23/23 [00:10<00:00,  2.28it/s]\n"
          ]
        },
        {
          "output_type": "stream",
          "name": "stdout",
          "text": [
            "Aug 2 Loss: 0.14166614073126213\n",
            "Aug: 3/3\n"
          ]
        },
        {
          "output_type": "stream",
          "name": "stderr",
          "text": [
            "Model training: 100%|██████████| 23/23 [00:10<00:00,  2.28it/s]\n"
          ]
        },
        {
          "output_type": "stream",
          "name": "stdout",
          "text": [
            "Aug 3 Loss: 0.13850754823373712\n",
            "---------- train data aug ends ----------\n"
          ]
        },
        {
          "output_type": "stream",
          "name": "stderr",
          "text": [
            "Evaluation: 100%|██████████| 5/5 [00:01<00:00,  3.79it/s]\n"
          ]
        },
        {
          "output_type": "stream",
          "name": "stdout",
          "text": [
            "Epoch: 92, Train Loss: 0.1393, Valid Loss: 0.0976, Best Valid Loss: 0.0905\n",
            "--------------------------------------------------\n",
            "\n",
            "Epoch: 93\n",
            "---------- train data aug begins ----------\n",
            "Aug: 1/3\n"
          ]
        },
        {
          "output_type": "stream",
          "name": "stderr",
          "text": [
            "Model training: 100%|██████████| 23/23 [00:10<00:00,  2.29it/s]\n"
          ]
        },
        {
          "output_type": "stream",
          "name": "stdout",
          "text": [
            "Aug 1 Loss: 0.1305006172346032\n",
            "Aug: 2/3\n"
          ]
        },
        {
          "output_type": "stream",
          "name": "stderr",
          "text": [
            "Model training: 100%|██████████| 23/23 [00:10<00:00,  2.27it/s]\n"
          ]
        },
        {
          "output_type": "stream",
          "name": "stdout",
          "text": [
            "Aug 2 Loss: 0.12348334248299184\n",
            "Aug: 3/3\n"
          ]
        },
        {
          "output_type": "stream",
          "name": "stderr",
          "text": [
            "Model training: 100%|██████████| 23/23 [00:10<00:00,  2.26it/s]\n"
          ]
        },
        {
          "output_type": "stream",
          "name": "stdout",
          "text": [
            "Aug 3 Loss: 0.13991426255391992\n",
            "---------- train data aug ends ----------\n"
          ]
        },
        {
          "output_type": "stream",
          "name": "stderr",
          "text": [
            "Evaluation: 100%|██████████| 5/5 [00:01<00:00,  3.84it/s]\n"
          ]
        },
        {
          "output_type": "stream",
          "name": "stdout",
          "text": [
            "Epoch: 93, Train Loss: 0.1313, Valid Loss: 0.1014, Best Valid Loss: 0.0905\n",
            "--------------------------------------------------\n",
            "\n",
            "Epoch: 94\n",
            "---------- train data aug begins ----------\n",
            "Aug: 1/3\n"
          ]
        },
        {
          "output_type": "stream",
          "name": "stderr",
          "text": [
            "Model training: 100%|██████████| 23/23 [00:10<00:00,  2.28it/s]\n"
          ]
        },
        {
          "output_type": "stream",
          "name": "stdout",
          "text": [
            "Aug 1 Loss: 0.12253607356030008\n",
            "Aug: 2/3\n"
          ]
        },
        {
          "output_type": "stream",
          "name": "stderr",
          "text": [
            "Model training: 100%|██████████| 23/23 [00:10<00:00,  2.25it/s]\n"
          ]
        },
        {
          "output_type": "stream",
          "name": "stdout",
          "text": [
            "Aug 2 Loss: 0.1202365598924782\n",
            "Aug: 3/3\n"
          ]
        },
        {
          "output_type": "stream",
          "name": "stderr",
          "text": [
            "Model training: 100%|██████████| 23/23 [00:10<00:00,  2.27it/s]\n"
          ]
        },
        {
          "output_type": "stream",
          "name": "stdout",
          "text": [
            "Aug 3 Loss: 0.12325205783481183\n",
            "---------- train data aug ends ----------\n"
          ]
        },
        {
          "output_type": "stream",
          "name": "stderr",
          "text": [
            "Evaluation: 100%|██████████| 5/5 [00:01<00:00,  3.76it/s]\n"
          ]
        },
        {
          "output_type": "stream",
          "name": "stdout",
          "text": [
            "Epoch: 94, Train Loss: 0.1220, Valid Loss: 0.1037, Best Valid Loss: 0.0905\n",
            "--------------------------------------------------\n",
            "\n",
            "Epoch: 95\n",
            "---------- train data aug begins ----------\n",
            "Aug: 1/3\n"
          ]
        },
        {
          "output_type": "stream",
          "name": "stderr",
          "text": [
            "Model training: 100%|██████████| 23/23 [00:10<00:00,  2.26it/s]\n"
          ]
        },
        {
          "output_type": "stream",
          "name": "stdout",
          "text": [
            "Aug 1 Loss: 0.10812012673072192\n",
            "Aug: 2/3\n"
          ]
        },
        {
          "output_type": "stream",
          "name": "stderr",
          "text": [
            "Model training: 100%|██████████| 23/23 [00:10<00:00,  2.27it/s]\n"
          ]
        },
        {
          "output_type": "stream",
          "name": "stdout",
          "text": [
            "Aug 2 Loss: 0.12406505093626354\n",
            "Aug: 3/3\n"
          ]
        },
        {
          "output_type": "stream",
          "name": "stderr",
          "text": [
            "Model training: 100%|██████████| 23/23 [00:10<00:00,  2.27it/s]\n"
          ]
        },
        {
          "output_type": "stream",
          "name": "stdout",
          "text": [
            "Aug 3 Loss: 0.12548965118501498\n",
            "---------- train data aug ends ----------\n"
          ]
        },
        {
          "output_type": "stream",
          "name": "stderr",
          "text": [
            "Evaluation: 100%|██████████| 5/5 [00:01<00:00,  3.87it/s]"
          ]
        },
        {
          "output_type": "stream",
          "name": "stdout",
          "text": [
            "Epoch: 95, Train Loss: 0.1192, Valid Loss: 0.1032, Best Valid Loss: 0.0905\n",
            "--------------------------------------------------\n"
          ]
        },
        {
          "output_type": "stream",
          "name": "stderr",
          "text": [
            "\n"
          ]
        }
      ],
      "source": [
        "\n",
        "train_model(train_samples, valid_samples, train_transforms_aug, eval_transforms_aug)\n"
      ]
    },
    {
      "cell_type": "code",
      "execution_count": 32,
      "metadata": {
        "id": "xWkvLDHEGqMc"
      },
      "outputs": [],
      "source": [
        "def predict(path:str, test_df, eval_transforms_aug):\n",
        "\n",
        "    wrong_cases = []\n",
        "    total_correct = 0\n",
        "    device = torch.device('cuda' if torch.cuda.is_available() else 'cpu')\n",
        "\n",
        "    # Datasets\n",
        "    test_dataset = LinRegDataset(test_df.loc[:, 'new_path'].values,\n",
        "                                   test_df.loc[:, 'text'].values,\n",
        "                                   eval_transforms_aug)\n",
        "    \n",
        "    # data loader\n",
        "    test_loader = DataLoader(dataset=test_dataset, batch_size= 1, \n",
        "                              shuffle=False, collate_fn= lin_collate_fn)\n",
        "   \n",
        "    # model    \n",
        "    model = CRNN(3, len(LinRegDataset.CHAR2LABEL) +1,\n",
        "                 rnn_hidden = model_config['rnn_hidden'])\n",
        "\n",
        "    print('Loading base checkpoint...')\n",
        "    checkpoint = torch.load(path, map_location= torch.device('cpu'))\n",
        "    model.load_state_dict(checkpoint['model'])\n",
        "    model.to(device)\n",
        "    print(f\"Loaded base checkpoint, best_valid_loss: {checkpoint['valid_loss']:.4f}, train_loss: {checkpoint['train_loss']:.4f}, iteration: {checkpoint['iteration']}\")\n",
        "    model.eval()\n",
        "\n",
        "    for idx, data in enumerate(test_loader) :\n",
        "        imgs, targets, target_lengths = [d.to(device) for d in data]\n",
        "        preds, loss = model(imgs, targets, target_lengths)\n",
        "        decoded = decode_pred(preds, LinRegDataset.LABEL2CHAR)\n",
        "\n",
        "        if target_lengths is not None:\n",
        " \n",
        "            targets = targets.detach().numpy()\n",
        "            target_lengths = target_lengths.detach().numpy()\n",
        "            target_lengths_counter = 0\n",
        "            for pred, target_length in zip(decoded, target_lengths):\n",
        "                real = targets[target_lengths_counter:target_lengths_counter+ target_length]\n",
        "                real = [LinRegDataset.LABEL2CHAR[i] for i in real]\n",
        "                target_lengths_counter = target_length\n",
        "                real = ''.join([str(i) for i in real])\n",
        "                real = remove_duplicates(real)\n",
        "                if pred == real:\n",
        "                    total_correct +=1\n",
        "                else:\n",
        "                    wrong_cases.append(f\"pred: {pred}, target: {real}\")\n",
        "\n",
        "    print(f'total: {len(test_loader)}, total_correct: {total_correct}, total_wrong: {len(wrong_cases)}, acc: {(total_correct/len(test_loader)) * 100:.1f}%')\n",
        "    \n",
        "    return wrong_cases\n",
        "\n"
      ]
    },
    {
      "cell_type": "code",
      "source": [
        "# train_samples wrong predictions\n",
        "\n",
        "path = train_config['checkpoint_dir']\n",
        "\n",
        "wrong_cases = predict(path, train_samples, eval_transforms_aug)\n",
        "for case in wrong_cases:\n",
        "    print(case)"
      ],
      "metadata": {
        "colab": {
          "base_uri": "https://localhost:8080/"
        },
        "id": "i7be82ijHlV3",
        "outputId": "c284164a-3f1d-45fe-b28a-3a6379c2d65b"
      },
      "execution_count": 33,
      "outputs": [
        {
          "output_type": "stream",
          "name": "stdout",
          "text": [
            "Loading base checkpoint...\n",
            "Loaded base checkpoint, best_valid_loss: 0.0905, train_loss: 0.1679, iteration: 90\n",
            "total: 720, total_correct: 679, total_wrong: 41, acc: 94.3%\n",
            "pred: 109T2329, target: 109T2328\n",
            "pred: 149T2903, target: 148T2903\n",
            "pred: 123T1, target: 123T312\n",
            "pred: 182T7105, target: 12T7105\n",
            "pred: 137564, target: 137564N\n",
            "pred: 52T6894, target: 52T694\n",
            "pred: 71T2151, target: 171T2151\n",
            "pred: 162T2626, target: 162T2625\n",
            "pred: 12T7260, target: 132T7260\n",
            "pred: 12T3626, target: 120T3626\n",
            "pred: 109T80, target: 189T840\n",
            "pred: 21T409, target: 121T409\n",
            "pred: 45T6265, target: 45T6285\n",
            "pred: 787, target: 17T8467\n",
            "pred: 134T8789, target: 14T878\n",
            "pred: 16T305, target: 16T3054\n",
            "pred: 13T916, target: 13T9146\n",
            "pred: 81T806, target: 81T9062\n",
            "pred: 1T237, target: 121T237\n",
            "pred: 58T525, target: 58T526\n",
            "pred: 2T635, target: 72T630\n",
            "pred: 12T820, target: 132T820\n",
            "pred: 86T5785, target: 86T9785\n",
            "pred: 47T5, target: 127T59\n",
            "pred: 10T5039, target: 120T5039\n",
            "pred: 5T841, target: 75T8421\n",
            "pred: 17T9, target: 127T59\n",
            "pred: 1T258, target: 61T2580\n",
            "pred: 15T537, target: 15T5367\n",
            "pred: 84T429, target: 84T49\n",
            "pred: T26, target: 15T1216\n",
            "pred: 15T264, target: 16T2847\n",
            "pred: 93T3025, target: 93T3095\n",
            "pred: 40T924, target: 140T9240\n",
            "pred: 690T9658, target: 60T9658\n",
            "pred: 160T8656, target: 160T8650\n",
            "pred: 79T7121, target: 179T7121\n",
            "pred: 1036792, target: 103679N\n",
            "pred: 146T2131, target: 106T2131\n",
            "pred: 15T5307, target: 15T5367\n",
            "pred: 56T6516, target: 156T6516\n"
          ]
        }
      ]
    },
    {
      "cell_type": "code",
      "source": [
        "# validation samples wrong predictions\n",
        "\n",
        "path = train_config['checkpoint_dir']\n",
        "\n",
        "wrong_cases = predict(path, valid_samples, eval_transforms_aug)\n",
        "for case in wrong_cases:\n",
        "    print(case)"
      ],
      "metadata": {
        "colab": {
          "base_uri": "https://localhost:8080/"
        },
        "id": "R5o7Wo7cmeks",
        "outputId": "fe796f4c-17c1-480a-cf37-2b2b0bce3127"
      },
      "execution_count": 34,
      "outputs": [
        {
          "output_type": "stream",
          "name": "stdout",
          "text": [
            "Loading base checkpoint...\n",
            "Loaded base checkpoint, best_valid_loss: 0.0905, train_loss: 0.1679, iteration: 90\n",
            "total: 180, total_correct: 159, total_wrong: 21, acc: 88.3%\n",
            "pred: 13T2438, target: 137T2430\n",
            "pred: 1036792, target: 103679N\n",
            "pred: 145T538, target: 145T5368\n",
            "pred: 16T204, target: 16T2047\n",
            "pred: 94T136, target: 94T1365\n",
            "pred: 13T7367, target: 132T7367\n",
            "pred: 171217, target: 167T217\n",
            "pred: 17T846, target: 17T8467\n",
            "pred: 141T915, target: 141T9185\n",
            "pred: 94T326, target: 94T3236\n",
            "pred: 13T95, target: 13T96\n",
            "pred: 182T979, target: 162T979\n",
            "pred: 43T694, target: 43T964\n",
            "pred: 156T8546, target: 150T8546\n",
            "pred: 1T713, target: 91T713\n",
            "pred: 184T489, target: 104T489\n",
            "pred: 171T8064, target: 171T8084\n",
            "pred: 1036792, target: 103679N\n",
            "pred: 4T319, target: 74T3819\n",
            "pred: 12T979, target: 162T979\n",
            "pred: 17T209, target: 17T2094\n"
          ]
        }
      ]
    },
    {
      "cell_type": "code",
      "source": [
        ""
      ],
      "metadata": {
        "id": "h7q8fqVgk_U9"
      },
      "execution_count": null,
      "outputs": []
    }
  ],
  "metadata": {
    "colab": {
      "collapsed_sections": [],
      "name": "Copy of lincense-recognition2-zindi.ipynb",
      "provenance": []
    },
    "kernelspec": {
      "display_name": "Python 3",
      "name": "python3"
    },
    "language_info": {
      "name": "python"
    }
  },
  "nbformat": 4,
  "nbformat_minor": 0
}